{
 "cells": [
  {
   "cell_type": "markdown",
   "metadata": {},
   "source": [
    "# K-fold cross validation Analysis"
   ]
  },
  {
   "cell_type": "code",
   "execution_count": 1,
   "metadata": {
    "collapsed": true
   },
   "outputs": [],
   "source": [
    "import warnings\n",
    "warnings.filterwarnings('ignore')"
   ]
  },
  {
   "cell_type": "code",
   "execution_count": 2,
   "metadata": {
    "collapsed": true
   },
   "outputs": [],
   "source": [
    "%matplotlib inline\n",
    "import matplotlib.pyplot as plt\n",
    "import numpy as np\n",
    "import pandas as pd\n",
    "\n",
    "from sklearn.neighbors import KNeighborsClassifier\n",
    "from sklearn.linear_model import Ridge, LinearRegression, Lasso\n",
    "from sklearn.datasets import make_classification\n",
    "from sklearn.model_selection import GridSearchCV\n",
    "\n",
    "from sklearn.metrics import mean_squared_error\n",
    "np.random.seed(42)"
   ]
  },
  {
   "cell_type": "markdown",
   "metadata": {},
   "source": [
    "Here you would normaly get a \"RuntimeWarning: numpy.dtype size changed, may indicate binary incompatibility\" warning. You do not since we silenced the warning in the first cell. If you are interested read here\n",
    "https://stackoverflow.com/questions/40845304/runtimewarning-numpy-dtype-size-changed-may-indicate-binary-incompatibility"
   ]
  },
  {
   "cell_type": "code",
   "execution_count": 3,
   "metadata": {
    "collapsed": true
   },
   "outputs": [],
   "source": [
    "def get_data_x_cube(n):\n",
    "        \n",
    "    x = np.random.uniform(0, 4, n)\n",
    "    X = np.expand_dims(x, axis=-1)\n",
    "    y = 3*(x-2)**3 + 0.1*np.random.normal(0, 1, n)\n",
    "    Y = np.expand_dims(y, axis=-1)\n",
    "    \n",
    "    return X, Y"
   ]
  },
  {
   "cell_type": "code",
   "execution_count": 4,
   "metadata": {
    "collapsed": true
   },
   "outputs": [],
   "source": [
    "def get_data(n):\n",
    "        \n",
    "    x = np.random.uniform(0, 4, n)\n",
    "    X = np.expand_dims(x, axis=-1)\n",
    "    y = x + np.random.normal(0, 3, n)\n",
    "    Y = np.expand_dims(y, axis=-1)\n",
    "    \n",
    "    return X, Y"
   ]
  },
  {
   "cell_type": "code",
   "execution_count": 5,
   "metadata": {
    "collapsed": true
   },
   "outputs": [],
   "source": [
    "def MSE(Y_pred, Y):\n",
    "    Y_pred = np.asarray(Y_pred)\n",
    "    Y = np.asarray(Y)\n",
    "    \n",
    "    n = Y.shape[0]\n",
    "    \n",
    "    return 1/n * np.sum(np.square(Y_pred - Y))"
   ]
  },
  {
   "cell_type": "code",
   "execution_count": 6,
   "metadata": {
    "collapsed": true
   },
   "outputs": [],
   "source": [
    "def k_fold_evaluation_MSE(classifier, X, Y, K=10):\n",
    "    k_folds_X = np.asarray(np.split(X,K,axis=0))\n",
    "    k_folds_Y = np.asarray(np.split(Y,K,axis=0))\n",
    "    \n",
    "    MSE_s = []\n",
    "    for i in range(K):\n",
    "        validation_fold_X = k_folds_X[i]\n",
    "        validation_fold_Y = k_folds_Y[i]\n",
    "        \n",
    "        if i == 0: # first fold for validation \n",
    "            training_folds_X = k_folds_X[i+1:]\n",
    "            training_folds_Y = k_folds_Y[i+1:]\n",
    "        elif i == K-1: # last fold  for validation\n",
    "            training_folds_X = k_folds_X[0:K-1]\n",
    "            training_folds_Y = k_folds_Y[0:K-1]\n",
    "        else:  # intermediate fold for validation, concatenate others. \n",
    "            training_folds_X = np.concatenate((k_folds_X[0:i],k_folds_X[i+1:]),axis = 0)\n",
    "            training_folds_Y = np.concatenate((k_folds_Y[0:i],k_folds_X[i+1:]),axis = 0)\n",
    "        \n",
    "        # reshape to one coherent dataset \n",
    "        training_fold_X = np.reshape(training_folds_X,(-1,training_folds_X.shape[2]))\n",
    "        training_fold_Y = np.reshape(training_folds_Y,(-1,training_folds_Y.shape[2]))\n",
    "        \n",
    "        classifier.fit(training_fold_X,training_fold_Y)\n",
    "        \n",
    "        Y_pred = classifier.predict(validation_fold_X)\n",
    "        \n",
    "        error = MSE(Y_pred, validation_fold_Y)\n",
    "        \n",
    "        MSE_s.append(error)\n",
    "    return np.mean(MSE_s)\n"
   ]
  },
  {
   "cell_type": "code",
   "execution_count": 7,
   "metadata": {
    "collapsed": true
   },
   "outputs": [],
   "source": [
    "def k_fold_cv_ridge(X, Y, lambdas, K=10):\n",
    "    average_MSE_s = []\n",
    "\n",
    "    for lam in lambdas:\n",
    "        c = Ridge(lam)\n",
    "        average_error = k_fold_evaluation_MSE(c,X,Y,K)\n",
    "        average_MSE_s.append(average_error)\n",
    "        \n",
    "    f, ax = plt.subplots()    \n",
    "    ax.scatter(np.log(lambdas), np.log(average_MSE_s), label = \"Validation Error\",c=\"red\")\n",
    "    ax.plot(np.log(lambdas), np.log(average_MSE_s),c=\"red\")\n",
    "    ax.set_xlabel(\"log(lambda)\")\n",
    "    ax.set_ylabel(\"log(Error)\")\n",
    "    #plt.show()\n",
    "    \n",
    "    return average_MSE_s, ax"
   ]
  },
  {
   "cell_type": "code",
   "execution_count": 8,
   "metadata": {
    "collapsed": true
   },
   "outputs": [],
   "source": [
    "X, Y = get_data_x_cube(300)\n",
    "X_train, Y_train = X[:100], Y[:100]\n",
    "X_test, Y_test = X[101:], Y[101:]"
   ]
  },
  {
   "cell_type": "code",
   "execution_count": 9,
   "metadata": {
    "scrolled": true
   },
   "outputs": [
    {
     "data": {
      "image/png": "[encoded data removed]",
      "text/plain": [
       "<matplotlib.figure.Figure at 0x116c6bf60>"
      ]
     },
     "metadata": {},
     "output_type": "display_data"
    },
    {
     "name": "stdout",
     "output_type": "stream",
     "text": [
      "Validation Errors (log):  [ 3.39097248  3.39102464  3.39154646  3.39677947  3.4498114   3.84364773]\n",
      "Test Errors (log):  [ 2.56081858  2.56080623  2.56068536  2.55973347  2.57261282  3.19496023]\n",
      "Best performing lambda on Validation set:  0.001\n",
      "Best performing lambda on Test set:  1\n"
     ]
    }
   ],
   "source": [
    "lambdas = [10**-3,10**-2,10**-1,1,10,100]\n",
    "validation_MSE_s, ax = k_fold_cv_ridge(X_train, Y_train, lambdas)\n",
    "test_MSE_s = []\n",
    "\n",
    "for lam in lambdas:\n",
    "    c = Ridge(lam)\n",
    "    c.fit(X_train,Y_train)\n",
    "    Y_pred = c.predict(X_test)\n",
    "        \n",
    "    error = MSE(Y_pred, Y_test)\n",
    "    test_MSE_s.append(error)\n",
    "    \n",
    "ax.scatter(np.log(lambdas), np.log(test_MSE_s), label = \"Test Error\",c=\"blue\")\n",
    "ax.plot(np.log(lambdas), np.log(test_MSE_s),c=\"blue\")\n",
    "plt.legend()\n",
    "plt.show()\n",
    "\n",
    "print(\"Validation Errors (log): \", np.log(validation_MSE_s))\n",
    "print(\"Test Errors (log): \", np.log(test_MSE_s))\n",
    "print(\"Best performing lambda on Validation set: \", lambdas[np.argmin(validation_MSE_s)])\n",
    "print(\"Best performing lambda on Test set: \", lambdas[np.argmin(test_MSE_s)])"
   ]
  },
  {
   "cell_type": "markdown",
   "metadata": {},
   "source": [
    "We notice, that the Validation Error is overall higher than the test error and shows a similar pattern for lambda. Lambda values greater than one show an drastic increase in error (for validation and test error). The overall better performance for the test_set might result from the larger training set . "
   ]
  },
  {
   "cell_type": "code",
   "execution_count": 10,
   "metadata": {
    "collapsed": true
   },
   "outputs": [],
   "source": [
    "X, Y = make_classification(n_samples=2000, n_features=2, n_informative=2, n_redundant=0, n_repeated=0, random_state=420)\n",
    "X_train, Y_train = X[:100], Y[:100]\n",
    "X_test, Y_test = X[101:], Y[101:]"
   ]
  },
  {
   "cell_type": "code",
   "execution_count": 11,
   "metadata": {
    "collapsed": true
   },
   "outputs": [],
   "source": [
    "ks = np.arange(1,11)\n",
    "parameters = {'n_neighbors': ks}\n",
    "clf = GridSearchCV(KNeighborsClassifier(weights=\"uniform\"), parameters)\n",
    "clf.fit(X_train, Y_train)\n",
    "accuracy_cv = clf.cv_results_['mean_train_score']"
   ]
  },
  {
   "cell_type": "code",
   "execution_count": 12,
   "metadata": {
    "collapsed": true
   },
   "outputs": [],
   "source": [
    "accuracy = np.zeros(len(ks))\n",
    "    \n",
    "for i, k in enumerate(ks):\n",
    "        \n",
    "    knn = KNeighborsClassifier(n_neighbors=k, weights=\"uniform\")\n",
    "    knn.fit(X_train, Y_train)\n",
    "    accuracy[i] = knn.score(X_test, Y_test)"
   ]
  },
  {
   "cell_type": "code",
   "execution_count": 13,
   "metadata": {},
   "outputs": [
    {
     "data": {
      "text/plain": [
       "[<matplotlib.lines.Line2D at 0x116f72f28>]"
      ]
     },
     "execution_count": 13,
     "metadata": {},
     "output_type": "execute_result"
    },
    {
     "data": {
      "image/png": "[encoded data removed]",
      "text/plain": [
       "<matplotlib.figure.Figure at 0x116e84b70>"
      ]
     },
     "metadata": {},
     "output_type": "display_data"
    }
   ],
   "source": [
    "plt.figure()\n",
    "plt.scatter(ks, accuracy_cv, c=\"red\")\n",
    "plt.plot(ks, accuracy_cv, c=\"red\")\n",
    "plt.scatter(ks, accuracy, c=\"blue\")\n",
    "plt.plot(ks, accuracy, c=\"blue\")"
   ]
  },
  {
   "cell_type": "code",
   "execution_count": 14,
   "metadata": {},
   "outputs": [
    {
     "data": {
      "text/plain": [
       "(array([ 1.        ,  0.9701426 ,  0.96004159,  0.95499109,  0.95513963,\n",
       "         0.95008913,  0.93998812,  0.93493761,  0.93493761,  0.93998812]),\n",
       " array([ 0.95260664,  0.92101106,  0.95945234,  0.9626119 ,  0.94154818,\n",
       "         0.94260137,  0.93575566,  0.93575566,  0.92680358,  0.92785677]))"
      ]
     },
     "execution_count": 14,
     "metadata": {},
     "output_type": "execute_result"
    }
   ],
   "source": [
    "accuracy_cv, accuracy"
   ]
  },
  {
   "cell_type": "markdown",
   "metadata": {},
   "source": [
    "The accuracy for the cross validated KNN overestimates the performance and overfits the data for small values of k and misses the best performing value of k = 4 on the test set. One problem in this approach is that the cross validated classifier is not trained in a real sense, but uses the training data for comparison. This leads to a strong dependance of the performance on the training data. Furthermore this also leads to a strong influence of the number of folds used in the cross validation, because the performance is calculated by taking the mean of each fold. Despite of the underlying math, another factor could be the metric used for evaluating the performance of the classifier.  "
   ]
  },
  {
   "cell_type": "markdown",
   "metadata": {},
   "source": [
    "## Comparing different types of regressions"
   ]
  },
  {
   "cell_type": "code",
   "execution_count": 15,
   "metadata": {
    "collapsed": true
   },
   "outputs": [],
   "source": [
    "X, Y = get_data(400)\n",
    "X_train, Y_train = X[:100], Y[:100]\n",
    "X_test, Y_test = X[101:], Y[101:]"
   ]
  },
  {
   "cell_type": "code",
   "execution_count": 16,
   "metadata": {},
   "outputs": [
    {
     "name": "stdout",
     "output_type": "stream",
     "text": [
      "MSE: 9.48244514367\n",
      "log(MSE): 2.24944220956\n"
     ]
    }
   ],
   "source": [
    "linear = LinearRegression()\n",
    "linear.fit(X_train, Y_train)\n",
    "Y_pred = linear.predict(X_test)\n",
    "print(\"MSE: \" + str(MSE(Y_pred, Y_test)))\n",
    "print(\"log(MSE): \" + str(np.log(MSE(Y_pred, Y_test))))"
   ]
  },
  {
   "cell_type": "code",
   "execution_count": 17,
   "metadata": {},
   "outputs": [
    {
     "data": {
      "image/png": "[encoded data removed]",
      "text/plain": [
       "<matplotlib.figure.Figure at 0x116eeb710>"
      ]
     },
     "metadata": {},
     "output_type": "display_data"
    },
    {
     "name": "stdout",
     "output_type": "stream",
     "text": [
      "Validation Errors (log):  [ 2.16069046  2.16068765  2.16065959  2.16039017  2.15865658  2.17210924]\n",
      "Test Errors (log):  [ 2.24944278  2.24944793  2.24949938  2.25001518  2.25525095  2.29928711]\n",
      "Best performing lambda on Validation set:  10\n",
      "Best performing lambda on Test set:  0.001\n"
     ]
    }
   ],
   "source": [
    "lambdas = [10**-3,10**-2,10**-1,1,10,100]\n",
    "validation_MSE_s, ax = k_fold_cv_ridge(X_train, Y_train, lambdas)\n",
    "test_MSE_s = []\n",
    "\n",
    "for lam in lambdas:\n",
    "    c = Ridge(lam)\n",
    "    c.fit(X_train,Y_train)\n",
    "    Y_pred = c.predict(X_test)\n",
    "        \n",
    "    error = MSE(Y_pred, Y_test)\n",
    "    test_MSE_s.append(error)\n",
    "    \n",
    "ax.scatter(np.log(lambdas), np.log(test_MSE_s), label = \"Test Error\",c=\"blue\")\n",
    "ax.plot(np.log(lambdas), np.log(test_MSE_s),c=\"blue\")\n",
    "plt.legend()\n",
    "plt.title(\"Ridge Regression\")\n",
    "plt.show()\n",
    "\n",
    "\n",
    "print(\"Validation Errors (log): \", np.log(validation_MSE_s))\n",
    "print(\"Test Errors (log): \", np.log(test_MSE_s))\n",
    "print(\"Best performing lambda on Validation set: \", lambdas[np.argmin(validation_MSE_s)])\n",
    "print(\"Best performing lambda on Test set: \", lambdas[np.argmin(test_MSE_s)])"
   ]
  },
  {
   "cell_type": "markdown",
   "metadata": {},
   "source": [
    "The cross validation does not select the best possible $\\lambda$. It selects $\\lambda = 10$ by cross validation while the best performing $\\lambda = 0.001$ on the test set.\n"
   ]
  },
  {
   "cell_type": "code",
   "execution_count": 18,
   "metadata": {},
   "outputs": [
    {
     "data": {
      "image/png": "[encoded data removed]",
      "text/plain": [
       "<matplotlib.figure.Figure at 0x116c5d2b0>"
      ]
     },
     "metadata": {},
     "output_type": "display_data"
    },
    {
     "name": "stdout",
     "output_type": "stream",
     "text": [
      "Validation Errors (log):  [ 4.63873016  4.63728709  4.62345686  4.55096338  4.55108615  4.55108615]\n",
      "Test Errors (log):  [ 8.18133089  8.18003047  8.16759795  8.10724744  8.10738273  8.10738273]\n",
      "Best performing lambda on Validation set:  1\n",
      "Best performing lambda on Test set:  1\n"
     ]
    }
   ],
   "source": [
    "def k_fold_cv_lasso(X, Y, lambdas, K=10):\n",
    "    average_MSE_s = []\n",
    "\n",
    "    for lam in lambdas:\n",
    "        c = Lasso(lam)\n",
    "        average_error = k_fold_evaluation_MSE(c,X,Y,K)\n",
    "        average_MSE_s.append(average_error)\n",
    "        \n",
    "    f, ax = plt.subplots()    \n",
    "    ax.scatter(np.log(lambdas), np.log(average_MSE_s), label = \"Validation Error\",c=\"red\")\n",
    "    ax.plot(np.log(lambdas), np.log(average_MSE_s),c=\"red\")\n",
    "    ax.set_xlabel(\"log(lambda)\")\n",
    "    ax.set_ylabel(\"log(Error)\")\n",
    "    #plt.show()\n",
    "    \n",
    "    return average_MSE_s, ax\n",
    "\n",
    "lambdas = [10**-3,10**-2,10**-1,1,10,100]\n",
    "validation_MSE_s, ax = k_fold_cv_lasso(X_train, Y_train, lambdas)\n",
    "test_MSE_s = []\n",
    "\n",
    "for lam in lambdas:\n",
    "    c = Lasso(lam)\n",
    "    c.fit(X_train,Y_train)\n",
    "    Y_pred = c.predict(X_test)\n",
    "        \n",
    "    error = MSE(Y_pred, Y_test)\n",
    "    test_MSE_s.append(error)\n",
    "    \n",
    "ax.scatter(np.log(lambdas), np.log(test_MSE_s), label = \"Test Error\",c=\"blue\")\n",
    "ax.plot(np.log(lambdas), np.log(test_MSE_s),c=\"blue\")\n",
    "plt.legend()\n",
    "plt.title(\"Lasso\")\n",
    "plt.show()\n",
    "\n",
    "print(\"Validation Errors (log): \", np.log(validation_MSE_s))\n",
    "print(\"Test Errors (log): \", np.log(test_MSE_s))\n",
    "print(\"Best performing lambda on Validation set: \", lambdas[np.argmin(validation_MSE_s)])\n",
    "print(\"Best performing lambda on Test set: \", lambdas[np.argmin(test_MSE_s)])"
   ]
  },
  {
   "cell_type": "markdown",
   "metadata": {},
   "source": [
    "The cross validation selects the best possible $\\lambda$. It selects $\\lambda = 1$ on the validation set which is as well the best performing on the test set. \n"
   ]
  },
  {
   "cell_type": "markdown",
   "metadata": {},
   "source": [
    "Comparing both graphs we can see, that the ridge regression performs overall better than the lasso regression. Lasso has a larger discrepance between validation and test error. While the error in the ridge regression increases for $\\lambda > 1$, it stays nearly the same in lasso regression. This might indicate that sparsity is not useful in our case, because reduces flexibility of the model. Another factor which comes in to play is the small size of the trainig data, which influences the choice of $\\lambda$. While the cross validation for ridge regression suggests $\\lambda = 10 $ which indicates that a simpler model is catching the underlying structure of the data, the results on the test set show that using a liberal $\\lambda = 0.001$ performs better. "
   ]
  },
  {
   "cell_type": "markdown",
   "metadata": {},
   "source": [
    "Ridge Regression works best. Linear Regression works better than Lasso."
   ]
  }
 ],
 "metadata": {
  "kernelspec": {
   "display_name": "Python 3",
   "language": "python",
   "name": "python3"
  },
  "language_info": {
   "codemirror_mode": {
    "name": "ipython",
    "version": 3
   },
   "file_extension": ".py",
   "mimetype": "text/x-python",
   "name": "python",
   "nbconvert_exporter": "python",
   "pygments_lexer": "ipython3",
   "version": "3.6.3"
  }
 },
 "nbformat": 4,
 "nbformat_minor": 2
}
